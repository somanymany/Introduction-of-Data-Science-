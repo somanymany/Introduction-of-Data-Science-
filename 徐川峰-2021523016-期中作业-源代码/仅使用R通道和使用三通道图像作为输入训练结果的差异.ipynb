{
 "cells": [
  {
   "cell_type": "code",
   "execution_count": null,
   "id": "840afe1d",
   "metadata": {},
   "outputs": [],
   "source": [
    "DEVICE = torch.device(\"cuda\"if torch.cuda.is_available() else \"cpu\")\n",
    "EPOCHS = 50\n",
    "BATCH_SIZE = 128\n",
    "LR = 0.001\n",
    "\n",
    "# train_data.data=train_data.data[:,:,:,0]表示仅选取R通道进行训练 任务7需取消下一行的注释\n",
    "# train_data.data=train_data.data[:,:,:,0]\n",
    "\n",
    "train_loader = DataLoader(\n",
    "    train_data, \n",
    "    batch_size=BATCH_SIZE,\n",
    "    shuffle=True, \n",
    "    pin_memory=True)\n",
    "\n",
    "optimizer = torch.optim.Adam(params=filter(lambda p: p.requires_grad, model.parameters()), lr=LR)\n",
    "\n",
    "loss_func = nn.CrossEntropyLoss()\n",
    "summary = SummaryWriter(\"./logs\")\n",
    "\n",
    "train(model, DEVICE, train_loader, optimizer, loss_func, EPOCHS, summary)"
   ]
  }
 ],
 "metadata": {
  "kernelspec": {
   "display_name": "Python 3 (ipykernel)",
   "language": "python",
   "name": "python3"
  },
  "language_info": {
   "codemirror_mode": {
    "name": "ipython",
    "version": 3
   },
   "file_extension": ".py",
   "mimetype": "text/x-python",
   "name": "python",
   "nbconvert_exporter": "python",
   "pygments_lexer": "ipython3",
   "version": "3.9.7"
  }
 },
 "nbformat": 4,
 "nbformat_minor": 5
}
